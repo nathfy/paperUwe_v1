{
 "cells": [
  {
   "cell_type": "markdown",
   "metadata": {},
   "source": [
    "# Predicting product cancelations for sales retention\n",
    "Investigate machine learning techniques to predict the likely-hood of a product cancellation based on existing sales and amount spent in annual maintenance. To enable the targeting of retention resources and offers to those customers who are predicted as at risk. "
   ]
  },
  {
   "cell_type": "markdown",
   "metadata": {},
   "source": [
    "# libaries, functions and pipeline"
   ]
  },
  {
   "cell_type": "code",
   "execution_count": 2,
   "metadata": {},
   "outputs": [
    {
     "name": "stdout",
     "output_type": "stream",
     "text": [
      "pandas version is high enough\n"
     ]
    }
   ],
   "source": [
    "# get updated version on pandas\n",
    "import pandas as pd\n",
    "from distutils.version import LooseVersion, StrictVersion\n",
    "if LooseVersion(pd.__version__) < LooseVersion(\"0.22.0\"):\n",
    "    !pip install --upgrade pandas\n",
    "    pd.__version__\n",
    "    print(\"pandas version was: \" + pd.__version__ + \" It has been updated, please restart the kernel\")\n",
    "else:\n",
    "    print(\"pandas version is high enough\")"
   ]
  },
  {
   "cell_type": "code",
   "execution_count": 3,
   "metadata": {},
   "outputs": [
    {
     "name": "stdout",
     "output_type": "stream",
     "text": [
      "Requirement already satisfied: pdtransform in c:\\users\\nathan\\anaconda3\\lib\\site-packages (0.2)\n",
      "Requirement already satisfied: pandas in c:\\users\\nathan\\anaconda3\\lib\\site-packages (from pdtransform) (0.23.0)\n",
      "Requirement already satisfied: scikit-learn in c:\\users\\nathan\\anaconda3\\lib\\site-packages (from pdtransform) (0.19.1)\n",
      "Requirement already satisfied: python-dateutil>=2.5.0 in c:\\users\\nathan\\anaconda3\\lib\\site-packages (from pandas->pdtransform) (2.7.3)\n",
      "Requirement already satisfied: numpy>=1.9.0 in c:\\users\\nathan\\anaconda3\\lib\\site-packages (from pandas->pdtransform) (1.14.3)\n",
      "Requirement already satisfied: pytz>=2011k in c:\\users\\nathan\\anaconda3\\lib\\site-packages (from pandas->pdtransform) (2018.4)\n",
      "Requirement already satisfied: six>=1.5 in c:\\users\\nathan\\anaconda3\\lib\\site-packages (from python-dateutil>=2.5.0->pandas->pdtransform) (1.11.0)\n",
      "Requirement already satisfied: tabulate in c:\\users\\nathan\\anaconda3\\lib\\site-packages (0.8.2)\n",
      "Requirement already satisfied: seaborn==0.9.0 in c:\\users\\nathan\\anaconda3\\lib\\site-packages (0.9.0)\n",
      "Requirement already satisfied: pandas>=0.15.2 in c:\\users\\nathan\\anaconda3\\lib\\site-packages (from seaborn==0.9.0) (0.23.0)\n",
      "Requirement already satisfied: scipy>=0.14.0 in c:\\users\\nathan\\anaconda3\\lib\\site-packages (from seaborn==0.9.0) (1.1.0)\n",
      "Requirement already satisfied: matplotlib>=1.4.3 in c:\\users\\nathan\\anaconda3\\lib\\site-packages (from seaborn==0.9.0) (2.2.2)\n",
      "Requirement already satisfied: numpy>=1.9.3 in c:\\users\\nathan\\anaconda3\\lib\\site-packages (from seaborn==0.9.0) (1.14.3)\n",
      "Requirement already satisfied: pytz>=2011k in c:\\users\\nathan\\anaconda3\\lib\\site-packages (from pandas>=0.15.2->seaborn==0.9.0) (2018.4)\n",
      "Requirement already satisfied: python-dateutil>=2.5.0 in c:\\users\\nathan\\anaconda3\\lib\\site-packages (from pandas>=0.15.2->seaborn==0.9.0) (2.7.3)\n",
      "Requirement already satisfied: cycler>=0.10 in c:\\users\\nathan\\anaconda3\\lib\\site-packages (from matplotlib>=1.4.3->seaborn==0.9.0) (0.10.0)\n",
      "Requirement already satisfied: pyparsing!=2.0.4,!=2.1.2,!=2.1.6,>=2.0.1 in c:\\users\\nathan\\anaconda3\\lib\\site-packages (from matplotlib>=1.4.3->seaborn==0.9.0) (2.2.0)\n",
      "Requirement already satisfied: six>=1.10 in c:\\users\\nathan\\anaconda3\\lib\\site-packages (from matplotlib>=1.4.3->seaborn==0.9.0) (1.11.0)\n",
      "Requirement already satisfied: kiwisolver>=1.0.1 in c:\\users\\nathan\\anaconda3\\lib\\site-packages (from matplotlib>=1.4.3->seaborn==0.9.0) (1.0.1)\n",
      "Requirement already satisfied: setuptools in c:\\users\\nathan\\anaconda3\\lib\\site-packages (from kiwisolver>=1.0.1->matplotlib>=1.4.3->seaborn==0.9.0) (39.1.0)\n"
     ]
    }
   ],
   "source": [
    "#some extra libs that we need in the page:\n",
    "!pip install pdtransform\n",
    "!pip install tabulate\n",
    "!pip install seaborn==0.9.0 "
   ]
  },
  {
   "cell_type": "code",
   "execution_count": 31,
   "metadata": {},
   "outputs": [],
   "source": [
    "# setup the notebook and import libs\n",
    "import numpy as np\n",
    "import pandas as pd\n",
    "import matplotlib.pyplot as plt\n",
    "import seaborn as sns\n",
    "from scipy import stats, integrate\n",
    "from sklearn.model_selection import train_test_split, StratifiedKFold\n",
    "from sklearn.metrics import (\n",
    "    auc,\n",
    "    confusion_matrix,\n",
    "    precision_recall_curve,\n",
    "    precision_score,\n",
    "    recall_score,\n",
    "    roc_curve,\n",
    "    accuracy_score\n",
    "    )\n",
    "from tabulate import tabulate\n",
    "from sklearn.dummy import DummyClassifier\n",
    "from sklearn.naive_bayes import GaussianNB\n",
    "from sklearn.svm import SVC\n",
    "from sklearn.neighbors import KNeighborsClassifier\n",
    "from sklearn.ensemble import RandomForestClassifier\n",
    "from sklearn.feature_selection import SelectFromModel\n",
    "from sklearn.tree import DecisionTreeClassifier\n",
    "from sklearn.metrics import accuracy_score,recall_score,confusion_matrix, classification_report,make_scorer\n",
    "from sklearn.preprocessing import StandardScaler,RobustScaler,Normalizer,QuantileTransformer\n",
    "from sklearn.linear_model import LogisticRegression\n",
    "from sklearn import decomposition\n",
    "from sklearn.preprocessing import FunctionTransformer\n",
    "from sklearn.model_selection import train_test_split\n",
    "from sklearn.pipeline import Pipeline\n",
    "from sklearn import preprocessing\n",
    "#from sklearn import cross_validation\n",
    "from pdtransform import DFTransform, DFFeatureUnion\n",
    "from sklearn.model_selection import GridSearchCV\n",
    "from scipy.stats import uniform\n",
    "from sklearn.decomposition import PCA\n",
    "from sklearn.feature_selection import SelectKBest, chi2, f_classif\n",
    "from sklearn.neighbors import KNeighborsClassifier\n",
    "from sklearn.svm import SVC\n",
    "from sklearn.gaussian_process import GaussianProcessClassifier\n",
    "from sklearn.gaussian_process.kernels import RBF\n",
    "from sklearn.tree import DecisionTreeClassifier\n",
    "from sklearn.ensemble import RandomForestClassifier, AdaBoostClassifier\n",
    "from sklearn.discriminant_analysis import QuadraticDiscriminantAnalysis\n",
    "from sklearn.neural_network import MLPClassifier\n",
    "%matplotlib inline\n",
    "\n",
    "#Get the data from the same folder as the notebook and test the pandas version\n",
    "csvData = './ResultsGrid.csv'\n",
    "isCancelledKey = 'isCancelled'\n",
    "customerIdKey = 'customerId'\n",
    "adminAreaKey = 'administrativeArea'\n",
    "subCountryKey = 'subCountryArea'\n",
    "countryKey = 'country'\n",
    "avgDaysToPay='avgDaysToPay'"
   ]
  },
  {
   "cell_type": "code",
   "execution_count": 29,
   "metadata": {},
   "outputs": [],
   "source": [
    "#seaborn defaults - see http://www.jesshamrick.com/2016/04/13/reproducible-plots/\n",
    "sns.set_context(\"paper\") \n",
    "# Set the font to be serif, rather than sans\n",
    "sns.set(font='serif')\n",
    "# Make the background white, and specify the\n",
    "# specific font family\n",
    "sns.set_style(\"white\", {\n",
    "    \"font.family\": \"serif\",\n",
    "    \"font.serif\": [\"Times\", \"Palatino\", \"serif\"]\n",
    "})\n",
    "# configure seaborn https://seaborn.pydata.org/\n",
    "sns.set(color_codes=True)\n",
    "colors = [\"amber\", \"windows blue\", \"red\",\"green\", \"grey\", \"dusty purple\"]\n",
    "sns.set_palette(sns.xkcd_palette(colors))"
   ]
  },
  {
   "cell_type": "code",
   "execution_count": 8,
   "metadata": {},
   "outputs": [
    {
     "data": {
      "text/html": [
       "<div>\n",
       "<style scoped>\n",
       "    .dataframe tbody tr th:only-of-type {\n",
       "        vertical-align: middle;\n",
       "    }\n",
       "\n",
       "    .dataframe tbody tr th {\n",
       "        vertical-align: top;\n",
       "    }\n",
       "\n",
       "    .dataframe thead th {\n",
       "        text-align: right;\n",
       "    }\n",
       "</style>\n",
       "<table border=\"1\" class=\"dataframe\">\n",
       "  <thead>\n",
       "    <tr style=\"text-align: right;\">\n",
       "      <th></th>\n",
       "      <th>customerId</th>\n",
       "      <th>amountTotal</th>\n",
       "      <th>salesTotal</th>\n",
       "      <th>annualTotal</th>\n",
       "      <th>monthlyTotalProduct1</th>\n",
       "      <th>monthlyTotalProduct2</th>\n",
       "      <th>extraItemsTotal</th>\n",
       "      <th>monthsSinceStarted</th>\n",
       "      <th>avgDaysToPay</th>\n",
       "      <th>creditedAmount</th>\n",
       "      <th>...</th>\n",
       "      <th>hasProduct7</th>\n",
       "      <th>hasProduct8</th>\n",
       "      <th>hasProduct9</th>\n",
       "      <th>hasProduct10</th>\n",
       "      <th>hasProduct11</th>\n",
       "      <th>hasProduct12</th>\n",
       "      <th>administrativeArea</th>\n",
       "      <th>subCountryArea</th>\n",
       "      <th>country</th>\n",
       "      <th>firstInvoiceDate</th>\n",
       "    </tr>\n",
       "  </thead>\n",
       "  <tbody>\n",
       "  </tbody>\n",
       "</table>\n",
       "<p>0 rows × 27 columns</p>\n",
       "</div>"
      ],
      "text/plain": [
       "Empty DataFrame\n",
       "Columns: [customerId, amountTotal, salesTotal, annualTotal, monthlyTotalProduct1, monthlyTotalProduct2, extraItemsTotal, monthsSinceStarted, avgDaysToPay, creditedAmount, isCancelled, hasProduct1, hasProduct2, hasProduct3, hasProduct4, hasProduct5, hasProduct6, hasProduct7, hasProduct8, hasProduct9, hasProduct10, hasProduct11, hasProduct12, administrativeArea, subCountryArea, country, firstInvoiceDate]\n",
       "Index: []\n",
       "\n",
       "[0 rows x 27 columns]"
      ]
     },
     "execution_count": 8,
     "metadata": {},
     "output_type": "execute_result"
    }
   ],
   "source": [
    "#load the dataframe in\n",
    "dataFrame = pd.read_csv(csvData)\n",
    "isCancelledIndex = dataFrame.columns.get_loc(isCancelledKey)\n",
    "dataFrame = dataFrame.infer_objects()\n",
    "nans = lambda df: df[df.isnull().any(axis=1)]\n",
    "nans(dataFrame)"
   ]
  },
  {
   "cell_type": "markdown",
   "metadata": {},
   "source": [
    "# Functions"
   ]
  },
  {
   "cell_type": "code",
   "execution_count": 9,
   "metadata": {},
   "outputs": [],
   "source": [
    "def getTrainTestSplit(df):\n",
    "    #remove the dependant variable and columns that have no value in training\n",
    "    data = df.drop([isCancelledKey], axis=1)\n",
    "    # Set monthsSinceStarted and avgDaysToPay to 0 if negative\n",
    "    df.loc[:, ['monthsSinceStarted','avgDaysToPay']]  = df[['monthsSinceStarted','avgDaysToPay']].clip(lower=0)\n",
    "    X_train, X_test, y_train, y_test = train_test_split( data, df[isCancelledKey], test_size=0.33, random_state=42, stratify=df[isCancelledKey])\n",
    "    \n",
    "    print('y_train class distribution')\n",
    "    print(y_train.value_counts(normalize=True))\n",
    "    print('y_test class distribution')\n",
    "    print(y_test.value_counts(normalize=True))\n",
    "    \n",
    "    return X_train, X_test, y_train, y_test"
   ]
  },
  {
   "cell_type": "code",
   "execution_count": 10,
   "metadata": {},
   "outputs": [],
   "source": [
    "def printConfusionMatrix(confusion_matrix, printName = \"\", figsize = (10,7), fontsize=14):\n",
    "    classNames = ['false', 'true']\n",
    "    df_cm = pd.DataFrame(\n",
    "        confusion_matrix, index=classNames, columns=classNames, \n",
    "    )\n",
    "    fig = plt.figure(figsize=figsize)\n",
    "    try:\n",
    "        heatmap = sns.heatmap(df_cm, annot=True, fmt=\"d\")\n",
    "    except ValueError:\n",
    "        raise ValueError(\"Confusion matrix values must be integers.\")\n",
    "    heatmap.yaxis.set_ticklabels(heatmap.yaxis.get_ticklabels(), rotation=0, ha='right', fontsize=fontsize)\n",
    "    heatmap.xaxis.set_ticklabels(heatmap.xaxis.get_ticklabels(), rotation=45, ha='right', fontsize=fontsize)\n",
    "    plt.ylabel('True label')\n",
    "    plt.xlabel('Predicted label')\n",
    "    \n",
    "    if(printName != \"\"):\n",
    "        confusionMatrixfig = heatmap.get_figure()\n",
    "        confusionMatrixfig.savefig(printName, format='eps')\n",
    "    \n",
    "    return fig"
   ]
  },
  {
   "cell_type": "code",
   "execution_count": 11,
   "metadata": {},
   "outputs": [],
   "source": [
    "def printDescribe(afterString, df):\n",
    "    print(f\"{afterString} - Number of features {len(df.columns)}\")"
   ]
  },
  {
   "cell_type": "code",
   "execution_count": 12,
   "metadata": {},
   "outputs": [],
   "source": [
    "def getOneHotEncodeData(df):\n",
    "    categoryFeatures = [subCountryKey] #[adminAreaKey, subCountryKey,countryKey]\n",
    "    oneHotDataframe = pd.get_dummies(df,columns=categoryFeatures, dummy_na=True)\n",
    "    return oneHotDataframe"
   ]
  },
  {
   "cell_type": "code",
   "execution_count": 13,
   "metadata": {},
   "outputs": [],
   "source": [
    "def printClassificationReport(y_test, y_pred, asLatex = False):\n",
    "    clfReport = classification_report(y_test, y_pred)\n",
    "    print(clfReport)"
   ]
  },
  {
   "cell_type": "code",
   "execution_count": 14,
   "metadata": {},
   "outputs": [],
   "source": [
    "def GridSearchCVOnPipeline(X, y, pipeline, param_grid, refitScore):\n",
    "    skf = StratifiedKFold(n_splits=3)\n",
    "    scorers = {\n",
    "        'precision_score': make_scorer(precision_score),\n",
    "        'recall_score': make_scorer(recall_score),\n",
    "        'accuracy_score': make_scorer(accuracy_score)\n",
    "    }\n",
    "    \n",
    "    grid = GridSearchCV(\n",
    "        pipeline, \n",
    "        cv=skf,  \n",
    "        param_grid=param_grid,\n",
    "        scoring=scorers, \n",
    "        refit=refitScore,\n",
    "        return_train_score=True, \n",
    "        n_jobs=-1\n",
    "    )\n",
    "    bestModel = grid.fit(X, y)\n",
    "    #mean_scores = np.array(grid.cv_results_['mean_test_score'])\n",
    "    #print(mean_scores)\n",
    "    print(f\"Number of features {len(X.columns)}\")\n",
    "    return bestModel\n",
    "    \n",
    "def BestModelScore(X_test, y_test, grid, refitScore, printName=\"\"):\n",
    "    y_pred = grid.predict(X_test.values)\n",
    "\n",
    "    print('Best params for {}'.format(refitScore))\n",
    "    print(grid.best_params_)\n",
    "\n",
    "    print('\\nConfusion matrix for {} on the test data:'.format(refitScore))\n",
    "    print(pd.DataFrame(\n",
    "            confusion_matrix(y_test, y_pred),\n",
    "            columns=['pred_neg', 'pred_pos'], \n",
    "            index=['neg', 'pos'])\n",
    "         )\n",
    "    printConfusionMatrix(confusion_matrix(y_test,y_pred), printName)\n",
    "    printClassificationReport(y_test, y_pred)\n",
    "    \n",
    "    #return grid"
   ]
  },
  {
   "cell_type": "code",
   "execution_count": 22,
   "metadata": {},
   "outputs": [],
   "source": [
    "def RemoveSkew(df):\n",
    "    skewColumns = df.skew(numeric_only=\"true\")\n",
    "    skewRightColumns = skewColumns[lambda x : (x > 0.25)]\n",
    "    #note ignoring 'int64' gives better results - why?\n",
    "    skewRightDf = df[skewRightColumns.index].select_dtypes(include=['float64'])\n",
    "    # 1+ to get rid of -inf value\n",
    "    df[skewRightDf.columns] = np.log(1+skewRightDf)\n",
    "    #skewLeftColumns = skewColumns[lambda x : (x < -3.0)]\n",
    "    return df"
   ]
  },
  {
   "cell_type": "code",
   "execution_count": 16,
   "metadata": {},
   "outputs": [],
   "source": [
    "def RemoveLeftSkew(df):\n",
    "    skewColumns = df.skew(numeric_only=\"true\")\n",
    "    skewLeftColumns = skewColumns[lambda x : (x < -0.25)]\n",
    "    skewLeftDf = df[skewLeftColumns.index].select_dtypes(include=['float64'])\n",
    "    # 1+ to get rid of -inf value\n",
    "    df[skewLeftDf.columns] = np.log(1+skewLeftDf)\n",
    "    return df"
   ]
  },
  {
   "cell_type": "markdown",
   "metadata": {},
   "source": [
    "# Sklearn pipeline"
   ]
  },
  {
   "cell_type": "code",
   "execution_count": 17,
   "metadata": {},
   "outputs": [
    {
     "name": "stdout",
     "output_type": "stream",
     "text": [
      "y_train class distribution\n",
      "False    0.555875\n",
      "True     0.444125\n",
      "Name: isCancelled, dtype: float64\n",
      "y_test class distribution\n",
      "False    0.556347\n",
      "True     0.443653\n",
      "Name: isCancelled, dtype: float64\n",
      "Number of features 21\n",
      "Best params for precision_score\n",
      "{'classifier__C': 1.4347788054641235, 'classifier__penalty': 'l1'}\n",
      "\n",
      "Confusion matrix for precision_score on the test data:\n",
      "     pred_neg  pred_pos\n",
      "neg       665       194\n",
      "pos       162       523\n"
     ]
    },
    {
     "name": "stderr",
     "output_type": "stream",
     "text": [
      "C:\\Users\\nathan\\Anaconda3\\lib\\site-packages\\sklearn\\utils\\validation.py:475: DataConversionWarning: Data with input dtype object was converted to float64 by StandardScaler.\n",
      "  warnings.warn(msg, DataConversionWarning)\n"
     ]
    },
    {
     "name": "stdout",
     "output_type": "stream",
     "text": [
      "             precision    recall  f1-score   support\n",
      "\n",
      "      False       0.80      0.77      0.79       859\n",
      "       True       0.73      0.76      0.75       685\n",
      "\n",
      "avg / total       0.77      0.77      0.77      1544\n",
      "\n"
     ]
    },
    {
     "data": {
      "image/png": "[encoded data removed]",
      "text/plain": [
       "<Figure size 720x504 with 2 Axes>"
      ]
     },
     "metadata": {},
     "output_type": "display_data"
    }
   ],
   "source": [
    "X_train, X_test, y_train, y_test = getTrainTestSplit(dataFrame)\n",
    "C = uniform(loc=0, scale=4).rvs(10)\n",
    "refitScore = 'precision_score'\n",
    "param_grid = [\n",
    "    {\n",
    "        'classifier__C': C,\n",
    "        'classifier__penalty':['l1', 'l2']\n",
    "    }\n",
    "]\n",
    "\n",
    "transformPipeline = Pipeline([\n",
    "    ('Initial drop cols', DFTransform(lambda X: X.drop([customerIdKey,'firstInvoiceDate'], axis=1))),\n",
    "    ('Remove catagorical', DFTransform(lambda X: X.select_dtypes(exclude=['object']))),\n",
    "])\n",
    "clfPipeline = Pipeline([\n",
    "    ('scaler',StandardScaler()),\n",
    "    ('classifier', LogisticRegression())\n",
    "])\n",
    "\n",
    "transformedDfX_test = transformPipeline.transform(X_train)\n",
    "bestModel = GridSearchCVOnPipeline(transformedDfX_test, y_train, clfPipeline, param_grid, refitScore)\n",
    "\n",
    "transformedDfX_test = transformPipeline.transform(X_test)\n",
    "BestModelScore(transformedDfX_test, y_test, bestModel, refitScore, \"initialScore.eps\")"
   ]
  },
  {
   "cell_type": "markdown",
   "metadata": {},
   "source": [
    "## One hot encode the dataframe before the pipeline"
   ]
  },
  {
   "cell_type": "code",
   "execution_count": 19,
   "metadata": {},
   "outputs": [
    {
     "name": "stdout",
     "output_type": "stream",
     "text": [
      "y_train class distribution\n",
      "False    0.555875\n",
      "True     0.444125\n",
      "Name: isCancelled, dtype: float64\n",
      "y_test class distribution\n",
      "False    0.556347\n",
      "True     0.443653\n",
      "Name: isCancelled, dtype: float64\n",
      "Number of features 37\n",
      "Best params for precision_score\n",
      "{'classifier__C': 3.58212724143124, 'classifier__penalty': 'l2'}\n",
      "\n",
      "Confusion matrix for precision_score on the test data:\n",
      "     pred_neg  pred_pos\n",
      "neg       676       183\n",
      "pos       163       522\n",
      "             precision    recall  f1-score   support\n",
      "\n",
      "      False       0.81      0.79      0.80       859\n",
      "       True       0.74      0.76      0.75       685\n",
      "\n",
      "avg / total       0.78      0.78      0.78      1544\n",
      "\n"
     ]
    },
    {
     "name": "stderr",
     "output_type": "stream",
     "text": [
      "C:\\Users\\nathan\\Anaconda3\\lib\\site-packages\\sklearn\\utils\\validation.py:475: DataConversionWarning: Data with input dtype object was converted to float64 by StandardScaler.\n",
      "  warnings.warn(msg, DataConversionWarning)\n"
     ]
    },
    {
     "data": {
      "image/png": "[encoded data removed]",
      "text/plain": [
       "<Figure size 720x504 with 2 Axes>"
      ]
     },
     "metadata": {},
     "output_type": "display_data"
    }
   ],
   "source": [
    "oneHotDataFrame = getOneHotEncodeData(dataFrame)\n",
    "X_train, X_test, y_train, y_test = getTrainTestSplit(oneHotDataFrame)\n",
    "C = uniform(loc=0, scale=4).rvs(10)\n",
    "refitScore = 'precision_score'\n",
    "param_grid = [\n",
    "    {\n",
    "        'classifier__C': C,\n",
    "        'classifier__penalty':['l1', 'l2']\n",
    "    }\n",
    "]\n",
    "\n",
    "transformPipeline = Pipeline([\n",
    "    ('Initial drop cols', DFTransform(lambda X: X.drop([customerIdKey,'firstInvoiceDate'], axis=1))),\n",
    "    ('Remove catagorical', DFTransform(lambda X: X.select_dtypes(exclude=['object']))),\n",
    "])\n",
    "clfPipeline = Pipeline([\n",
    "    ('scaler',StandardScaler()),\n",
    "    ('classifier', LogisticRegression())\n",
    "])\n",
    "\n",
    "transformedDfX_test = transformPipeline.transform(X_train)\n",
    "bestModel = GridSearchCVOnPipeline(transformedDfX_test, y_train, clfPipeline, param_grid, refitScore)\n",
    "\n",
    "transformedDfX_test = transformPipeline.transform(X_test)\n",
    "BestModelScore(transformedDfX_test, y_test, bestModel, refitScore)"
   ]
  },
  {
   "cell_type": "markdown",
   "metadata": {},
   "source": [
    "## Remove Skew on amount columns"
   ]
  },
  {
   "cell_type": "code",
   "execution_count": 23,
   "metadata": {},
   "outputs": [
    {
     "name": "stdout",
     "output_type": "stream",
     "text": [
      "y_train class distribution\n",
      "False    0.555875\n",
      "True     0.444125\n",
      "Name: isCancelled, dtype: float64\n",
      "y_test class distribution\n",
      "False    0.556347\n",
      "True     0.443653\n",
      "Name: isCancelled, dtype: float64\n",
      "Number of features 37\n",
      "Best params for precision_score\n",
      "{'classifier__C': 1.6877276410267883, 'classifier__penalty': 'l2'}\n",
      "\n",
      "Confusion matrix for precision_score on the test data:\n",
      "     pred_neg  pred_pos\n",
      "neg       715       144\n",
      "pos       176       509\n",
      "             precision    recall  f1-score   support\n",
      "\n",
      "      False       0.80      0.83      0.82       859\n",
      "       True       0.78      0.74      0.76       685\n",
      "\n",
      "avg / total       0.79      0.79      0.79      1544\n",
      "\n"
     ]
    },
    {
     "name": "stderr",
     "output_type": "stream",
     "text": [
      "C:\\Users\\nathan\\Anaconda3\\lib\\site-packages\\sklearn\\utils\\validation.py:475: DataConversionWarning: Data with input dtype object was converted to float64 by StandardScaler.\n",
      "  warnings.warn(msg, DataConversionWarning)\n"
     ]
    },
    {
     "data": {
      "image/png": "[encoded data removed]",
      "text/plain": [
       "<Figure size 720x504 with 2 Axes>"
      ]
     },
     "metadata": {},
     "output_type": "display_data"
    }
   ],
   "source": [
    "oneHotDataFrame = getOneHotEncodeData(dataFrame)\n",
    "X_train, X_test, y_train, y_test = getTrainTestSplit(oneHotDataFrame)\n",
    "C = uniform(loc=0, scale=4).rvs(10)\n",
    "refitScore = 'precision_score'\n",
    "param_grid = [\n",
    "    {\n",
    "        'classifier__C': C,\n",
    "        'classifier__penalty':['l1', 'l2']\n",
    "    }\n",
    "]\n",
    "\n",
    "transformPipeline = Pipeline([\n",
    "    ('Initial drop cols', DFTransform(lambda X: X.drop([customerIdKey,'firstInvoiceDate'], axis=1))),\n",
    "    ('Remove catagorical', DFTransform(lambda X: X.select_dtypes(exclude=['object']))),\n",
    "    ('Remove skew value cols',DFTransform(RemoveSkew))\n",
    "])\n",
    "clfPipeline = Pipeline([\n",
    "    ('scaler',StandardScaler()),\n",
    "    ('classifier', LogisticRegression())\n",
    "])\n",
    "\n",
    "transformedDfX_test = transformPipeline.transform(X_train)\n",
    "bestModel = GridSearchCVOnPipeline(transformedDfX_test, y_train, clfPipeline, param_grid, refitScore)\n",
    "\n",
    "transformedDfX_test = transformPipeline.transform(X_test)\n",
    "BestModelScore(transformedDfX_test, y_test, bestModel, refitScore)"
   ]
  },
  {
   "cell_type": "markdown",
   "metadata": {},
   "source": [
    "## PCA"
   ]
  },
  {
   "cell_type": "code",
   "execution_count": 24,
   "metadata": {},
   "outputs": [
    {
     "name": "stdout",
     "output_type": "stream",
     "text": [
      "y_train class distribution\n",
      "False    0.555875\n",
      "True     0.444125\n",
      "Name: isCancelled, dtype: float64\n",
      "y_test class distribution\n",
      "False    0.556347\n",
      "True     0.443653\n",
      "Name: isCancelled, dtype: float64\n",
      "Number of features 37\n",
      "Best params for precision_score\n",
      "{'classifier__C': 3.3821016284384915, 'classifier__penalty': 'l2', 'reduceDimensions__n_components': None, 'reduceDimensions__whiten': False}\n",
      "\n",
      "Confusion matrix for precision_score on the test data:\n",
      "     pred_neg  pred_pos\n",
      "neg       717       142\n",
      "pos       175       510\n",
      "             precision    recall  f1-score   support\n",
      "\n",
      "      False       0.80      0.83      0.82       859\n",
      "       True       0.78      0.74      0.76       685\n",
      "\n",
      "avg / total       0.79      0.79      0.79      1544\n",
      "\n"
     ]
    },
    {
     "data": {
      "image/png": "[encoded data removed]",
      "text/plain": [
       "<Figure size 720x504 with 2 Axes>"
      ]
     },
     "metadata": {},
     "output_type": "display_data"
    }
   ],
   "source": [
    "oneHotDataFrame = getOneHotEncodeData(dataFrame)\n",
    "X_train, X_test, y_train, y_test = getTrainTestSplit(oneHotDataFrame)\n",
    "C = uniform(loc=0, scale=4).rvs(10)\n",
    "refitScore = 'precision_score'\n",
    "pca = decomposition.PCA(n_components=0.5, whiten=False)\n",
    "param_grid = [\n",
    "    {\n",
    "        'reduceDimensions__n_components': (0.5,0.6, 0.7, 0.8,0.9,None),\n",
    "        'reduceDimensions__whiten':(True,False),\n",
    "        'classifier__C': C,\n",
    "        'classifier__penalty':['l1', 'l2']\n",
    "    }\n",
    "]\n",
    "\n",
    "transformPipeline = Pipeline([\n",
    "    ('Initial drop cols', DFTransform(lambda X: X.drop([customerIdKey,'firstInvoiceDate'], axis=1))),\n",
    "    ('Remove catagorical', DFTransform(lambda X: X.select_dtypes(exclude=['object']))),\n",
    "    ('Remove skew value cols',DFTransform(RemoveSkew))\n",
    "])\n",
    "clfPipeline = Pipeline([\n",
    "    ('scaler',RobustScaler()),\n",
    "    ('reduceDimensions', pca),\n",
    "    ('classifier', LogisticRegression())\n",
    "])\n",
    "\n",
    "transformedDfX_test = transformPipeline.transform(X_train)\n",
    "bestModel = GridSearchCVOnPipeline(transformedDfX_test, y_train, clfPipeline, param_grid, refitScore)\n",
    "\n",
    "transformedDfX_test = transformPipeline.transform(X_test)\n",
    "BestModelScore(transformedDfX_test, y_test, bestModel, refitScore)"
   ]
  },
  {
   "cell_type": "markdown",
   "metadata": {},
   "source": [
    "# Test classifiers - THIS IS SLOW!\n",
    "The output is:\n",
    "```\n",
    "{'classifier__activation': 'tanh', 'classifier__alpha': 1e-06, 'classifier__hidden_layer_sizes': 5, 'classifier__max_iter': 500, 'classifier__random_state': 3, 'classifier__solver': 'lbfgs'}\n",
    "```"
   ]
  },
  {
   "cell_type": "code",
   "execution_count": null,
   "metadata": {},
   "outputs": [],
   "source": [
    "#Only run this if you want to max out your CPU!\n",
    "oneHotDataFrame = getOneHotEncodeData(dataFrame)\n",
    "X_train, X_test, y_train, y_test = getTrainTestSplit(oneHotDataFrame)\n",
    "C = uniform(loc=0, scale=4).rvs(10)\n",
    "refitScore = 'precision_score'\n",
    "#pca = decomposition.PCA(n_components= None, whiten= True)\n",
    "n_features_to_test = np.arange(1, 11)\n",
    "reduceFeatures = (2,4, 6, 8,10,12,14,16,18,20,22,24,26,28,30)\n",
    "percentageFeatures = (0.5,0.6, 0.7, 0.8,0.9,None)\n",
    "alpha_to_test = 2.0**np.arange(-6, +6)\n",
    "lrPenatlies = ['l1', 'l2']\n",
    "scalersToTest = [StandardScaler(), RobustScaler(), QuantileTransformer()]\n",
    "classifiersToTest = [\n",
    "    KNeighborsClassifier(3),\n",
    "    SVC(kernel=\"linear\", C=0.025),\n",
    "    SVC(gamma=2, C=1),\n",
    "    GaussianProcessClassifier(1.0 * RBF(1.0)),\n",
    "    DecisionTreeClassifier(max_depth=5),\n",
    "    RandomForestClassifier(max_depth=5, n_estimators=10, max_features=30),\n",
    "    MLPClassifier(alpha=1),\n",
    "    AdaBoostClassifier(),\n",
    "    GaussianNB(),\n",
    "    QuadraticDiscriminantAnalysis()]\n",
    "\n",
    "param_grid = [\n",
    "    #'classifier__n_estimators': [10, 100, 1000], \n",
    "    #'classifier__max_features': [5, 10, 20],\n",
    "    #{\n",
    "        #'classifier':classifiersToTest,\n",
    "        #'scaler': scalersToTest,\n",
    "        #'reduceDimensions': [PCA()],\n",
    "        #'reduceDimensions__n_components': percentageFeatures,\n",
    "        #'reduceDimensions__whiten':(True,False)\n",
    "    #},\n",
    "    #{\n",
    "        #'classifier':classifiersToTest,\n",
    "        #'scaler': scalersToTest,\n",
    "        #'reduceDimensions': [SelectKBest(f_classif)], # ANOVA (f_classif) scoring\n",
    "        #'reduceDimensions__k': reduceFeatures\n",
    "    #}\n",
    "    {\n",
    "        'classifier__activation': [\"identity\", \"logistic\", \"tanh\", \"relu\"],\n",
    "        'classifier__solver': ['lbfgs'], \n",
    "        'classifier__max_iter': [500,1000,1500], \n",
    "        'classifier__alpha': 10.0 ** -np.arange(1, 7), \n",
    "        'classifier__hidden_layer_sizes':np.arange(5, 12), \n",
    "        'classifier__random_state':[0,1,2,3,4,5,6,7,8,9]\n",
    "    }\n",
    "]\n",
    "\n",
    "transformPipeline = Pipeline([\n",
    "    ('Initial drop cols', DFTransform(lambda X: X.drop([customerIdKey,'firstInvoiceDate'], axis=1))),\n",
    "    ('Remove catagorical', DFTransform(lambda X: X.select_dtypes(exclude=['object']))),\n",
    "    ('Remove skew value cols',DFTransform(RemoveSkew)),\n",
    "])\n",
    "clfPipeline = Pipeline([\n",
    "    ('scaler', RobustScaler()),\n",
    "    ('reduceDimensions', pca()),\n",
    "    #('feature_selection', SelectFromModel(LinearSVC(penalty=\"l1\"))),\n",
    "    #('classifier', RandomForestClassifier(n_estimators=1000))\n",
    "    ('classifier', MLPClassifier(alpha=1))\n",
    "])\n",
    "#MLPClassifier(alpha=1)\n",
    "\n",
    "transformedDfX_test = transformPipeline.transform(X_train)\n",
    "bestModel = GridSearchCVOnPipeline(transformedDfX_test, y_train, clfPipeline, param_grid, refitScore)\n",
    "\n",
    "transformedDfX_test = transformPipeline.transform(X_test)\n",
    "BestModelScore(transformedDfX_test, y_test, bestModel, refitScore)"
   ]
  },
  {
   "cell_type": "markdown",
   "metadata": {},
   "source": [
    "# Using MLPClassifier for a NN, after some hyper parameter work (not slow)"
   ]
  },
  {
   "cell_type": "code",
   "execution_count": 32,
   "metadata": {},
   "outputs": [
    {
     "name": "stdout",
     "output_type": "stream",
     "text": [
      "y_train class distribution\n",
      "False    0.555875\n",
      "True     0.444125\n",
      "Name: isCancelled, dtype: float64\n",
      "y_test class distribution\n",
      "False    0.556347\n",
      "True     0.443653\n",
      "Name: isCancelled, dtype: float64\n",
      "Number of features 21\n",
      "Best params for precision_score\n",
      "{'classifier__activation': 'tanh', 'classifier__alpha': 1e-06, 'classifier__hidden_layer_sizes': 11, 'classifier__max_iter': 100, 'classifier__random_state': 3, 'classifier__solver': 'lbfgs'}\n",
      "\n",
      "Confusion matrix for precision_score on the test data:\n",
      "     pred_neg  pred_pos\n",
      "neg       760        99\n",
      "pos       184       501\n",
      "             precision    recall  f1-score   support\n",
      "\n",
      "      False       0.81      0.88      0.84       859\n",
      "       True       0.83      0.73      0.78       685\n",
      "\n",
      "avg / total       0.82      0.82      0.81      1544\n",
      "\n"
     ]
    },
    {
     "data": {
      "image/png": "[encoded data removed]",
      "text/plain": [
       "<Figure size 720x504 with 2 Axes>"
      ]
     },
     "metadata": {},
     "output_type": "display_data"
    }
   ],
   "source": [
    "# after running the above overnight we get:\n",
    "#{'classifier__activation': 'tanh', 'classifier__alpha': 1e-06, 'classifier__hidden_layer_sizes': 5, 'classifier__max_iter': 500, 'classifier__random_state': 3, 'classifier__solver': 'lbfgs'}\n",
    "\n",
    "X_train, X_test, y_train, y_test = getTrainTestSplit(dataFrame)\n",
    "refitScore = 'precision_score'\n",
    "\n",
    "param_grid = [\n",
    "    {\n",
    "        'classifier__activation': [\"tanh\"],\n",
    "        'classifier__solver': ['lbfgs'], \n",
    "        'classifier__max_iter': [100,200,300,400,500], #200 giving a better score\n",
    "        'classifier__alpha': [1e-06], \n",
    "        'classifier__hidden_layer_sizes':[11], # changed from 5 after manual intervention\n",
    "        'classifier__random_state':[3]\n",
    "    }\n",
    "]\n",
    "\n",
    "transformPipeline = Pipeline([\n",
    "    ('Initial drop cols', DFTransform(lambda X: X.drop([customerIdKey,'firstInvoiceDate'], axis=1))),\n",
    "    ('Remove catagorical', DFTransform(lambda X: X.select_dtypes(exclude=['object']))),\n",
    "    ('Remove skew value cols',DFTransform(RemoveSkew)),\n",
    "])\n",
    "clfPipeline = Pipeline([\n",
    "    ('scaler', RobustScaler()),\n",
    "    ('reduceDimensions', PCA()),\n",
    "    ('classifier', MLPClassifier(alpha=1e-06))\n",
    "])\n",
    "\n",
    "transformedDfX_test = transformPipeline.transform(X_train)\n",
    "bestModel = GridSearchCVOnPipeline(transformedDfX_test, y_train, clfPipeline, param_grid, refitScore)\n",
    "\n",
    "transformedDfX_test = transformPipeline.transform(X_test)\n",
    "BestModelScore(transformedDfX_test, y_test, bestModel, refitScore)"
   ]
  },
  {
   "cell_type": "markdown",
   "metadata": {},
   "source": [
    "# Currently working on this section\n",
    "# Trying to improve the true -> false score"
   ]
  },
  {
   "cell_type": "code",
   "execution_count": 34,
   "metadata": {},
   "outputs": [
    {
     "name": "stdout",
     "output_type": "stream",
     "text": [
      "y_train class distribution\n",
      "False    0.555875\n",
      "True     0.444125\n",
      "Name: isCancelled, dtype: float64\n",
      "y_test class distribution\n",
      "False    0.556347\n",
      "True     0.443653\n",
      "Name: isCancelled, dtype: float64\n",
      "Number of features 21\n",
      "Best params for precision_score\n",
      "{'classifier__activation': 'tanh', 'classifier__alpha': 1e-06, 'classifier__hidden_layer_sizes': 11, 'classifier__max_iter': 100, 'classifier__random_state': 3, 'classifier__solver': 'lbfgs'}\n",
      "\n",
      "Confusion matrix for precision_score on the test data:\n",
      "     pred_neg  pred_pos\n",
      "neg       760        99\n",
      "pos       184       501\n",
      "             precision    recall  f1-score   support\n",
      "\n",
      "      False       0.81      0.88      0.84       859\n",
      "       True       0.83      0.73      0.78       685\n",
      "\n",
      "avg / total       0.82      0.82      0.81      1544\n",
      "\n"
     ]
    },
    {
     "data": {
      "image/png": "[encoded data removed]",
      "text/plain": [
       "<Figure size 720x504 with 2 Axes>"
      ]
     },
     "metadata": {},
     "output_type": "display_data"
    }
   ],
   "source": [
    "X_train, X_test, y_train, y_test = getTrainTestSplit(dataFrame)\n",
    "refitScore = 'precision_score'\n",
    "\n",
    "param_grid = [\n",
    "    {\n",
    "        'classifier__activation': [\"tanh\"],\n",
    "        'classifier__solver': ['lbfgs'], \n",
    "        'classifier__max_iter': [100], #after manual tweaking with the hidden layer size\n",
    "        'classifier__alpha': [1e-06], \n",
    "        'classifier__hidden_layer_sizes':[11], # changed from 5 after manual intervention\n",
    "        'classifier__random_state':[3]\n",
    "    }\n",
    "]\n",
    "#{'classifier__activation': 'tanh', 'classifier__alpha': 1e-06, 'classifier__hidden_layer_sizes': 5, 'classifier__max_iter': 500, 'classifier__random_state': 3, 'classifier__solver': 'lbfgs'}\n",
    "\n",
    "transformPipeline = Pipeline([\n",
    "    ('Initial drop cols', DFTransform(lambda X: X.drop([customerIdKey,'firstInvoiceDate'], axis=1))),\n",
    "    ('Remove catagorical', DFTransform(lambda X: X.select_dtypes(exclude=['object']))),\n",
    "    ('Remove skew Right value cols',DFTransform(RemoveSkew)),\n",
    "    #Removing this is important, causes worse prediction, work on col...\n",
    "    #('Remove Left skew column', DFTransform(lambda X: X.drop(['avgDaysToPay'], axis=1)))\n",
    "    #('Remove skew Left value cols',DFTransform(RemoveLeftSkew))\n",
    "])\n",
    "clfPipeline = Pipeline([\n",
    "    ('scaler', RobustScaler()),\n",
    "    ('reduceDimensions', PCA()),\n",
    "    ('classifier', MLPClassifier())\n",
    "])\n",
    "\n",
    "transformedDfX_test = transformPipeline.transform(X_train)\n",
    "bestModel = GridSearchCVOnPipeline(transformedDfX_test, y_train, clfPipeline, param_grid, refitScore)\n",
    "\n",
    "transformedDfX_test = transformPipeline.transform(X_test)\n",
    "BestModelScore(transformedDfX_test, y_test, bestModel, refitScore)"
   ]
  },
  {
   "cell_type": "code",
   "execution_count": null,
   "metadata": {},
   "outputs": [],
   "source": []
  }
 ],
 "metadata": {
  "kernelspec": {
   "display_name": "Python 3",
   "language": "python",
   "name": "python3"
  },
  "language_info": {
   "codemirror_mode": {
    "name": "ipython",
    "version": 3
   },
   "file_extension": ".py",
   "mimetype": "text/x-python",
   "name": "python",
   "nbconvert_exporter": "python",
   "pygments_lexer": "ipython3",
   "version": "3.6.5"
  }
 },
 "nbformat": 4,
 "nbformat_minor": 2
}
